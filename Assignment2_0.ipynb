{
  "nbformat": 4,
  "nbformat_minor": 0,
  "metadata": {
    "colab": {
      "provenance": [],
      "authorship_tag": "ABX9TyPoVKbTzBbnY4UV+Fdno6uc",
      "include_colab_link": true
    },
    "kernelspec": {
      "name": "python3",
      "display_name": "Python 3"
    },
    "language_info": {
      "name": "python"
    }
  },
  "cells": [
    {
      "cell_type": "markdown",
      "metadata": {
        "id": "view-in-github",
        "colab_type": "text"
      },
      "source": [
        "<a href=\"https://colab.research.google.com/github/MedhaviNasare02/Tutorial1/blob/main/Assignment2_0.ipynb\" target=\"_parent\"><img src=\"https://colab.research.google.com/assets/colab-badge.svg\" alt=\"Open In Colab\"/></a>"
      ]
    },
    {
      "cell_type": "markdown",
      "source": [
        "**DEEP LEARNING**"
      ],
      "metadata": {
        "id": "ynKfky7Bou6p"
      }
    },
    {
      "cell_type": "markdown",
      "source": [
        "**MULTILAYER PERCEPTRON**\n",
        "\n",
        "It consists of multiple layers of nodes, each fully connected to the next layer.\n",
        "\n",
        "*  Structure of MLP:\n",
        "\n",
        "<u>Input Layer</u>: The first layer that receives the input data.\n",
        "\n",
        "<u>Hidden Layers</u>: These layers process the input data and learn to detect patterns and features.\n",
        "\n",
        "How hidden layer works:\n",
        "Weighted Sum: Each node in the hidden layer takes inputs from the previous layer, multiplies them by weights and adds a bias.\n",
        "\n",
        "Activation Function: The result of the weighted sum goes through an activation function which decides if the node should be activated or not. This adds non-linearity, allowing the network to understand complex patterns.\n",
        "\n",
        "<u>Output Layer</u>: The final layer that produces the output. The number of nodes in this layer corresponds to the number of output classes (for classification) or a single node (for regression)"
      ],
      "metadata": {
        "id": "hyY0GQc_iVhC"
      }
    },
    {
      "cell_type": "code",
      "execution_count": null,
      "metadata": {
        "colab": {
          "base_uri": "https://localhost:8080/"
        },
        "id": "6MnDVnizY16z",
        "outputId": "d39dfd1e-4795-4053-92ef-19ca1391e1df"
      },
      "outputs": [
        {
          "output_type": "stream",
          "name": "stdout",
          "text": [
            "Downloading http://yann.lecun.com/exdb/mnist/train-images-idx3-ubyte.gz\n",
            "Failed to download (trying next):\n",
            "HTTP Error 403: Forbidden\n",
            "\n",
            "Downloading https://ossci-datasets.s3.amazonaws.com/mnist/train-images-idx3-ubyte.gz\n",
            "Downloading https://ossci-datasets.s3.amazonaws.com/mnist/train-images-idx3-ubyte.gz to ./data/MNIST/raw/train-images-idx3-ubyte.gz\n"
          ]
        },
        {
          "output_type": "stream",
          "name": "stderr",
          "text": [
            "100%|██████████| 9912422/9912422 [00:00<00:00, 56110449.99it/s]\n"
          ]
        },
        {
          "output_type": "stream",
          "name": "stdout",
          "text": [
            "Extracting ./data/MNIST/raw/train-images-idx3-ubyte.gz to ./data/MNIST/raw\n",
            "\n",
            "Downloading http://yann.lecun.com/exdb/mnist/train-labels-idx1-ubyte.gz\n",
            "Failed to download (trying next):\n",
            "HTTP Error 403: Forbidden\n",
            "\n",
            "Downloading https://ossci-datasets.s3.amazonaws.com/mnist/train-labels-idx1-ubyte.gz\n",
            "Downloading https://ossci-datasets.s3.amazonaws.com/mnist/train-labels-idx1-ubyte.gz to ./data/MNIST/raw/train-labels-idx1-ubyte.gz\n"
          ]
        },
        {
          "output_type": "stream",
          "name": "stderr",
          "text": [
            "100%|██████████| 28881/28881 [00:00<00:00, 1791683.09it/s]"
          ]
        },
        {
          "output_type": "stream",
          "name": "stdout",
          "text": [
            "Extracting ./data/MNIST/raw/train-labels-idx1-ubyte.gz to ./data/MNIST/raw\n",
            "\n",
            "Downloading http://yann.lecun.com/exdb/mnist/t10k-images-idx3-ubyte.gz\n"
          ]
        },
        {
          "output_type": "stream",
          "name": "stderr",
          "text": [
            "\n"
          ]
        },
        {
          "output_type": "stream",
          "name": "stdout",
          "text": [
            "Failed to download (trying next):\n",
            "HTTP Error 403: Forbidden\n",
            "\n",
            "Downloading https://ossci-datasets.s3.amazonaws.com/mnist/t10k-images-idx3-ubyte.gz\n",
            "Downloading https://ossci-datasets.s3.amazonaws.com/mnist/t10k-images-idx3-ubyte.gz to ./data/MNIST/raw/t10k-images-idx3-ubyte.gz\n"
          ]
        },
        {
          "output_type": "stream",
          "name": "stderr",
          "text": [
            "100%|██████████| 1648877/1648877 [00:00<00:00, 4711428.25it/s]\n"
          ]
        },
        {
          "output_type": "stream",
          "name": "stdout",
          "text": [
            "Extracting ./data/MNIST/raw/t10k-images-idx3-ubyte.gz to ./data/MNIST/raw\n",
            "\n",
            "Downloading http://yann.lecun.com/exdb/mnist/t10k-labels-idx1-ubyte.gz\n",
            "Failed to download (trying next):\n",
            "HTTP Error 403: Forbidden\n",
            "\n",
            "Downloading https://ossci-datasets.s3.amazonaws.com/mnist/t10k-labels-idx1-ubyte.gz\n",
            "Downloading https://ossci-datasets.s3.amazonaws.com/mnist/t10k-labels-idx1-ubyte.gz to ./data/MNIST/raw/t10k-labels-idx1-ubyte.gz\n"
          ]
        },
        {
          "output_type": "stream",
          "name": "stderr",
          "text": [
            "100%|██████████| 4542/4542 [00:00<00:00, 3242643.19it/s]"
          ]
        },
        {
          "output_type": "stream",
          "name": "stdout",
          "text": [
            "Extracting ./data/MNIST/raw/t10k-labels-idx1-ubyte.gz to ./data/MNIST/raw\n",
            "\n"
          ]
        },
        {
          "output_type": "stream",
          "name": "stderr",
          "text": [
            "\n"
          ]
        },
        {
          "output_type": "stream",
          "name": "stdout",
          "text": [
            "Epoch [1/10], Step [100/938], Loss: 0.5796\n",
            "Epoch [1/10], Step [200/938], Loss: 0.3551\n",
            "Epoch [1/10], Step [300/938], Loss: 0.3073\n",
            "Epoch [1/10], Step [400/938], Loss: 0.2582\n",
            "Epoch [1/10], Step [500/938], Loss: 0.4371\n",
            "Epoch [1/10], Step [600/938], Loss: 0.2684\n",
            "Epoch [1/10], Step [700/938], Loss: 0.3703\n",
            "Epoch [1/10], Step [800/938], Loss: 0.3247\n",
            "Epoch [1/10], Step [900/938], Loss: 0.2925\n",
            "Epoch [2/10], Step [100/938], Loss: 0.2068\n",
            "Epoch [2/10], Step [200/938], Loss: 0.1004\n",
            "Epoch [2/10], Step [300/938], Loss: 0.2389\n",
            "Epoch [2/10], Step [400/938], Loss: 0.2659\n",
            "Epoch [2/10], Step [500/938], Loss: 0.1461\n",
            "Epoch [2/10], Step [600/938], Loss: 0.1165\n",
            "Epoch [2/10], Step [700/938], Loss: 0.2295\n",
            "Epoch [2/10], Step [800/938], Loss: 0.1635\n",
            "Epoch [2/10], Step [900/938], Loss: 0.1486\n",
            "Epoch [3/10], Step [100/938], Loss: 0.2288\n",
            "Epoch [3/10], Step [200/938], Loss: 0.1183\n",
            "Epoch [3/10], Step [300/938], Loss: 0.1298\n",
            "Epoch [3/10], Step [400/938], Loss: 0.0937\n",
            "Epoch [3/10], Step [500/938], Loss: 0.1944\n",
            "Epoch [3/10], Step [600/938], Loss: 0.1707\n",
            "Epoch [3/10], Step [700/938], Loss: 0.0814\n",
            "Epoch [3/10], Step [800/938], Loss: 0.1065\n",
            "Epoch [3/10], Step [900/938], Loss: 0.0889\n",
            "Epoch [4/10], Step [100/938], Loss: 0.0584\n",
            "Epoch [4/10], Step [200/938], Loss: 0.1079\n",
            "Epoch [4/10], Step [300/938], Loss: 0.3782\n",
            "Epoch [4/10], Step [400/938], Loss: 0.0392\n",
            "Epoch [4/10], Step [500/938], Loss: 0.0833\n",
            "Epoch [4/10], Step [600/938], Loss: 0.0264\n",
            "Epoch [4/10], Step [700/938], Loss: 0.1665\n",
            "Epoch [4/10], Step [800/938], Loss: 0.1203\n",
            "Epoch [4/10], Step [900/938], Loss: 0.2520\n",
            "Epoch [5/10], Step [100/938], Loss: 0.1481\n",
            "Epoch [5/10], Step [200/938], Loss: 0.0933\n",
            "Epoch [5/10], Step [300/938], Loss: 0.2533\n",
            "Epoch [5/10], Step [400/938], Loss: 0.0329\n",
            "Epoch [5/10], Step [500/938], Loss: 0.0201\n",
            "Epoch [5/10], Step [600/938], Loss: 0.0235\n",
            "Epoch [5/10], Step [700/938], Loss: 0.1310\n",
            "Epoch [5/10], Step [800/938], Loss: 0.2311\n",
            "Epoch [5/10], Step [900/938], Loss: 0.0511\n",
            "Epoch [6/10], Step [100/938], Loss: 0.0955\n",
            "Epoch [6/10], Step [200/938], Loss: 0.1377\n",
            "Epoch [6/10], Step [300/938], Loss: 0.1129\n",
            "Epoch [6/10], Step [400/938], Loss: 0.0768\n",
            "Epoch [6/10], Step [500/938], Loss: 0.0603\n",
            "Epoch [6/10], Step [600/938], Loss: 0.0836\n",
            "Epoch [6/10], Step [700/938], Loss: 0.0663\n",
            "Epoch [6/10], Step [800/938], Loss: 0.0215\n",
            "Epoch [6/10], Step [900/938], Loss: 0.0047\n",
            "Epoch [7/10], Step [100/938], Loss: 0.1047\n",
            "Epoch [7/10], Step [200/938], Loss: 0.0963\n",
            "Epoch [7/10], Step [300/938], Loss: 0.0773\n",
            "Epoch [7/10], Step [400/938], Loss: 0.0177\n",
            "Epoch [7/10], Step [500/938], Loss: 0.1240\n",
            "Epoch [7/10], Step [600/938], Loss: 0.0492\n",
            "Epoch [7/10], Step [700/938], Loss: 0.1628\n",
            "Epoch [7/10], Step [800/938], Loss: 0.0371\n",
            "Epoch [7/10], Step [900/938], Loss: 0.0349\n",
            "Epoch [8/10], Step [100/938], Loss: 0.0116\n",
            "Epoch [8/10], Step [200/938], Loss: 0.0330\n",
            "Epoch [8/10], Step [300/938], Loss: 0.0264\n",
            "Epoch [8/10], Step [400/938], Loss: 0.0365\n",
            "Epoch [8/10], Step [500/938], Loss: 0.0619\n",
            "Epoch [8/10], Step [600/938], Loss: 0.0203\n",
            "Epoch [8/10], Step [700/938], Loss: 0.0886\n",
            "Epoch [8/10], Step [800/938], Loss: 0.0225\n",
            "Epoch [8/10], Step [900/938], Loss: 0.1496\n",
            "Epoch [9/10], Step [100/938], Loss: 0.0027\n",
            "Epoch [9/10], Step [200/938], Loss: 0.0422\n",
            "Epoch [9/10], Step [300/938], Loss: 0.1234\n",
            "Epoch [9/10], Step [400/938], Loss: 0.0048\n",
            "Epoch [9/10], Step [500/938], Loss: 0.0537\n",
            "Epoch [9/10], Step [600/938], Loss: 0.1459\n",
            "Epoch [9/10], Step [700/938], Loss: 0.0654\n",
            "Epoch [9/10], Step [800/938], Loss: 0.0995\n",
            "Epoch [9/10], Step [900/938], Loss: 0.0864\n",
            "Epoch [10/10], Step [100/938], Loss: 0.0679\n",
            "Epoch [10/10], Step [200/938], Loss: 0.2510\n",
            "Epoch [10/10], Step [300/938], Loss: 0.0063\n",
            "Epoch [10/10], Step [400/938], Loss: 0.0153\n",
            "Epoch [10/10], Step [500/938], Loss: 0.0773\n",
            "Epoch [10/10], Step [600/938], Loss: 0.0442\n",
            "Epoch [10/10], Step [700/938], Loss: 0.0189\n",
            "Epoch [10/10], Step [800/938], Loss: 0.0629\n",
            "Epoch [10/10], Step [900/938], Loss: 0.0718\n",
            "Accuracy on test set: 0.9735 (9735/10000)\n"
          ]
        }
      ],
      "source": [
        "import torch\n",
        "import torch.nn as nn\n",
        "import torch.optim as optim\n",
        "import torchvision.transforms as transforms\n",
        "from torchvision.datasets import MNIST\n",
        "from torch.utils.data import DataLoader, random_split\n",
        "\n",
        "# Device configuration\n",
        "device = torch.device('cuda' if torch.cuda.is_available() else 'cpu')\n",
        "\n",
        "# Hyperparameters\n",
        "input_size = 28 * 28  # MNIST image size is 28x28\n",
        "hidden_size = 128\n",
        "output_size = 10\n",
        "learning_rate = 0.001\n",
        "batch_size = 64\n",
        "num_epochs = 10\n",
        "\n",
        "# MNIST dataset (images and labels)\n",
        "transform = transforms.Compose([\n",
        "    transforms.ToTensor(),\n",
        "    transforms.Normalize((0.5,), (0.5,))\n",
        "])\n",
        "\n",
        "train_dataset = MNIST(root='./data', train=True, transform=transform, download=True)\n",
        "test_dataset = MNIST(root='./data', train=False, transform=transform)\n",
        "\n",
        "# Data loaders\n",
        "train_loader = DataLoader(dataset=train_dataset, batch_size=batch_size, shuffle=True)\n",
        "test_loader = DataLoader(dataset=test_dataset, batch_size=batch_size, shuffle=False)\n",
        "\n",
        "# Define the MLP model\n",
        "class MLP(nn.Module):\n",
        "    def __init__(self, input_size, hidden_size, output_size):\n",
        "        super(MLP, self).__init__()\n",
        "        self.fc1 = nn.Linear(input_size, hidden_size)\n",
        "        self.relu = nn.ReLU()\n",
        "        self.fc2 = nn.Linear(hidden_size, output_size)\n",
        "        self.log_softmax = nn.LogSoftmax(dim=1)\n",
        "\n",
        "    def forward(self, x):\n",
        "        out = self.fc1(x)\n",
        "        out = self.relu(out)\n",
        "        out = self.fc2(out)\n",
        "        out = self.log_softmax(out)\n",
        "        return out\n",
        "\n",
        "# Initialize the model\n",
        "model = MLP(input_size, hidden_size, output_size).to(device)\n",
        "\n",
        "# Loss and optimizer\n",
        "criterion = nn.CrossEntropyLoss()\n",
        "optimizer = optim.Adam(model.parameters(), lr=learning_rate)\n",
        "\n",
        "# Function to compute accuracy\n",
        "def accuracy(outputs, labels):\n",
        "    _, predicted = torch.max(outputs, 1)\n",
        "    correct = (predicted == labels).sum().item()\n",
        "    return correct / labels.size(0)\n",
        "\n",
        "# Training function\n",
        "def train_model(model, train_loader, criterion, optimizer, num_epochs):\n",
        "    total_step = len(train_loader)\n",
        "    for epoch in range(num_epochs):\n",
        "        for i, (images, labels) in enumerate(train_loader):\n",
        "            images = images.reshape(-1, 28*28).to(device)\n",
        "            labels = labels.to(device)\n",
        "\n",
        "            # Forward pass\n",
        "            outputs = model(images)\n",
        "            loss = criterion(outputs, labels)\n",
        "\n",
        "            # Backward pass and optimize\n",
        "            optimizer.zero_grad()\n",
        "            loss.backward()\n",
        "            optimizer.step()\n",
        "\n",
        "            if (i+1) % 100 == 0:\n",
        "                print(f'Epoch [{epoch+1}/{num_epochs}], Step [{i+1}/{total_step}], Loss: {loss.item():.4f}')\n",
        "\n",
        "# Evaluation function\n",
        "def evaluate_model(model, test_loader):\n",
        "    model.eval()  # eval mode (batchnorm uses moving mean/variance instead of mini-batch mean/variance)\n",
        "    with torch.no_grad():\n",
        "        total_correct = 0\n",
        "        total_samples = 0\n",
        "        for images, labels in test_loader:\n",
        "            images = images.reshape(-1, 28*28).to(device)\n",
        "            labels = labels.to(device)\n",
        "            outputs = model(images)\n",
        "            _, predicted = torch.max(outputs, 1)\n",
        "            total_samples += labels.size(0)\n",
        "            total_correct += (predicted == labels).sum().item()\n",
        "\n",
        "        accuracy = total_correct / total_samples\n",
        "        print(f'Accuracy on test set: {accuracy:.4f} ({total_correct}/{total_samples})')\n",
        "\n",
        "# Train the model\n",
        "train_model(model, train_loader, criterion, optimizer, num_epochs)\n",
        "\n",
        "# Evaluate the model\n",
        "evaluate_model(model, test_loader)\n"
      ]
    },
    {
      "cell_type": "markdown",
      "source": [
        "**ACTIVATION FUNCTION**\n",
        "\n",
        "Activation functions are mathematical functions used in neural networks to determine the output of a neuron. They introduce non-linearity, allowing the network to learn complex patterns.\n",
        "\n"
      ],
      "metadata": {
        "id": "sUWkt1Mdifss"
      }
    },
    {
      "cell_type": "markdown",
      "source": [
        "**Sigmoid Function**\n",
        "\n",
        "\n",
        "\n",
        "* The output values range from 0 to 1.\n",
        "\n",
        "* Formula :\n",
        "          σ(x)= 1/1+e^-x\n"
      ],
      "metadata": {
        "id": "U5bKNSSximmB"
      }
    },
    {
      "cell_type": "code",
      "source": [
        "import torch\n",
        "import torch.nn as nn\n",
        "import matplotlib.pyplot as plt\n",
        "import numpy as np\n",
        "\n",
        "# Create a range of values from -10 to 10\n",
        "input_values = torch.linspace(-10, 10, 100)\n",
        "\n",
        "# Define the Sigmoid activation function\n",
        "sigmoid = nn.Sigmoid()\n",
        "\n",
        "# Apply the Sigmoid function to the input values\n",
        "output_values = sigmoid(input_values)\n",
        "\n",
        "# Convert tensors to numpy arrays for plotting\n",
        "input_values_np = input_values.numpy()\n",
        "output_values_np = output_values.numpy()\n",
        "\n",
        "# Plot the Sigmoid function\n",
        "plt.figure(figsize=(5, 4))\n",
        "plt.plot(input_values_np, output_values_np, label='Sigmoid Function')\n",
        "plt.title('Sigmoid Activation Function')\n",
        "plt.xlabel('Input')\n",
        "plt.ylabel('Output')\n",
        "plt.legend()\n",
        "plt.grid(True)\n",
        "plt.show()"
      ],
      "metadata": {
        "colab": {
          "base_uri": "https://localhost:8080/",
          "height": 410
        },
        "id": "ZE93PLP5iv_Z",
        "outputId": "cae7f873-dc86-4fe4-f18c-b4de703053e4"
      },
      "execution_count": null,
      "outputs": [
        {
          "output_type": "display_data",
          "data": {
            "text/plain": [
              "<Figure size 500x400 with 1 Axes>"
            ],
            "image/png": "[encoded data removed]"
          },
          "metadata": {}
        }
      ]
    },
    {
      "cell_type": "code",
      "source": [
        "import torch\n",
        "import torch.nn as nn\n",
        "\n",
        "# Example input tensor\n",
        "input_tensor = torch.tensor([1.0, 0.2, 3.0, 4.0, 5.0])\n",
        "\n",
        "# Define the Sigmoid activation function\n",
        "sigmoid = nn.Sigmoid()\n",
        "\n",
        "# Apply the Sigmoid function to the input tensor\n",
        "output_tensor = sigmoid(input_tensor)\n",
        "\n",
        "# Print the input and output tensors\n",
        "print(\"Input Tensor:\", input_tensor)\n",
        "print(\"Output Tensor:\", output_tensor)\n"
      ],
      "metadata": {
        "colab": {
          "base_uri": "https://localhost:8080/"
        },
        "id": "39ynxhgFizpY",
        "outputId": "181bc4e9-64e5-4ee6-bcb6-1af298de6a25"
      },
      "execution_count": null,
      "outputs": [
        {
          "output_type": "stream",
          "name": "stdout",
          "text": [
            "Input Tensor: tensor([1.0000, 0.2000, 3.0000, 4.0000, 5.0000])\n",
            "Output Tensor: tensor([0.7311, 0.5498, 0.9526, 0.9820, 0.9933])\n"
          ]
        }
      ]
    },
    {
      "cell_type": "markdown",
      "source": [
        "**Hyperbolic Tangent (Tanh) Activation Function**\n",
        "\n",
        "*  Range-(-1,1)\n",
        "*  Formula:\n",
        "            tanh(x)=e^x-e^-x / e^x+e^-x"
      ],
      "metadata": {
        "id": "hu5DwfHPi8Sq"
      }
    },
    {
      "cell_type": "code",
      "source": [
        "import torch\n",
        "import torch.nn as nn\n",
        "import matplotlib.pyplot as plt\n",
        "import numpy as np\n",
        "\n",
        "# Create a range of values from -10 to 10\n",
        "input_values = torch.linspace(-10, 10, 100)\n",
        "\n",
        "# Define the Tanh activation function\n",
        "tanh = nn.Tanh()\n",
        "\n",
        "# Apply the Tanh function to the input values\n",
        "output_values = tanh(input_values)\n",
        "\n",
        "# Convert tensors to numpy arrays for plotting\n",
        "input_values_np = input_values.numpy()\n",
        "output_values_np = output_values.numpy()\n",
        "\n",
        "# Plot the Tanh function\n",
        "plt.figure(figsize=(5, 4))\n",
        "plt.plot(input_values_np, output_values_np, label='Tanh Function', color='blue')\n",
        "plt.title('Tanh Activation Function')\n",
        "plt.xlabel('Input')\n",
        "plt.ylabel('Output')\n",
        "plt.legend()\n",
        "plt.grid(True)\n",
        "plt.show()"
      ],
      "metadata": {
        "colab": {
          "base_uri": "https://localhost:8080/",
          "height": 410
        },
        "id": "rq5ALPtwjMQN",
        "outputId": "b8dbb481-7e8c-4a76-95d4-261a79c60aee"
      },
      "execution_count": null,
      "outputs": [
        {
          "output_type": "display_data",
          "data": {
            "text/plain": [
              "<Figure size 500x400 with 1 Axes>"
            ],
            "image/png": "[encoded data removed]"
          },
          "metadata": {}
        }
      ]
    },
    {
      "cell_type": "code",
      "source": [
        "import torch\n",
        "import torch.nn as nn\n",
        "\n",
        "# Example input tensor\n",
        "input_tensor = torch.tensor([-2.0, -1.0, 0.0, 1.0, 2.0])\n",
        "\n",
        "# Define the Tanh activation function\n",
        "tanh = nn.Tanh()\n",
        "\n",
        "# Apply the Tanh function to the input tensor\n",
        "output_tensor = tanh(input_tensor)\n",
        "\n",
        "# Print the input and output tensors\n",
        "print(\"Input Tensor:\", input_tensor)\n",
        "print(\"Output Tensor:\", output_tensor)\n"
      ],
      "metadata": {
        "colab": {
          "base_uri": "https://localhost:8080/"
        },
        "id": "wD8s5t1OjRqg",
        "outputId": "e21f7b78-c410-4dc2-a5a2-0194262e3fb1"
      },
      "execution_count": null,
      "outputs": [
        {
          "output_type": "stream",
          "name": "stdout",
          "text": [
            "Input Tensor: tensor([-2., -1.,  0.,  1.,  2.])\n",
            "Output Tensor: tensor([-0.9640, -0.7616,  0.0000,  0.7616,  0.9640])\n"
          ]
        }
      ]
    },
    {
      "cell_type": "markdown",
      "source": [
        "**ReLU (Rectified Linear Unit) Activation Function**\n",
        "\n",
        "* ReLU outputs the input directly if it is positive; otherwise, it outputs zero.It's like a switch that turns on if the input is positive and off if it's negative.\n",
        "* Formula:\n",
        "             ReLU(x)=max(0,x)\n",
        "*  Can suffer from \"dying ReLU\" problem where neurons may become inactive and stop learning if they enter a state where the output is always zero.\n"
      ],
      "metadata": {
        "id": "82ZMEPAMjca4"
      }
    },
    {
      "cell_type": "code",
      "source": [
        "import torch\n",
        "import torch.nn as nn\n",
        "import matplotlib.pyplot as plt\n",
        "import numpy as np\n",
        "\n",
        "# Create a range of values from -10 to 10\n",
        "input_values = torch.linspace(-10, 10, 100)\n",
        "\n",
        "# Define the ReLU activation function\n",
        "relu = nn.ReLU()\n",
        "\n",
        "# Apply the ReLU function to the input values\n",
        "output_values = relu(input_values)\n",
        "\n",
        "# Convert tensors to numpy arrays for plotting\n",
        "input_values_np = input_values.numpy()\n",
        "output_values_np = output_values.numpy()\n",
        "\n",
        "# Plot the ReLU function\n",
        "plt.figure(figsize=(5, 4))\n",
        "plt.plot(input_values_np, output_values_np, label='ReLU Function', color='blue')\n",
        "plt.title('ReLU Activation Function')\n",
        "plt.xlabel('Input')\n",
        "plt.ylabel('Output')\n",
        "plt.legend()\n",
        "plt.grid(True)\n",
        "plt.show()"
      ],
      "metadata": {
        "colab": {
          "base_uri": "https://localhost:8080/",
          "height": 410
        },
        "id": "xY9fiykWjrrc",
        "outputId": "a3adf2cb-6037-46c2-de96-fe8ae9774ffa"
      },
      "execution_count": null,
      "outputs": [
        {
          "output_type": "display_data",
          "data": {
            "text/plain": [
              "<Figure size 500x400 with 1 Axes>"
            ],
            "image/png": "[encoded data removed]"
          },
          "metadata": {}
        }
      ]
    },
    {
      "cell_type": "code",
      "source": [
        "import torch\n",
        "import torch.nn as nn\n",
        "\n",
        "# Example input tensor\n",
        "input_tensor = torch.tensor([-2.0, -1.0, 0.0, 1.0, 2.0])\n",
        "\n",
        "# Define the ReLU activation function\n",
        "relu = nn.ReLU()\n",
        "\n",
        "# Apply the ReLU function to the input tensor\n",
        "output_tensor = relu(input_tensor)\n",
        "\n",
        "# Print the input and output tensors\n",
        "print(\"Input Tensor:\", input_tensor)\n",
        "print(\"Output Tensor:\", output_tensor)\n"
      ],
      "metadata": {
        "colab": {
          "base_uri": "https://localhost:8080/"
        },
        "id": "eM0pVpLIjwD_",
        "outputId": "9ac848f2-52d2-4cb4-8508-06becf637482"
      },
      "execution_count": null,
      "outputs": [
        {
          "output_type": "stream",
          "name": "stdout",
          "text": [
            "Input Tensor: tensor([-2., -1.,  0.,  1.,  2.])\n",
            "Output Tensor: tensor([0., 0., 0., 1., 2.])\n"
          ]
        }
      ]
    },
    {
      "cell_type": "markdown",
      "source": [
        "**Leaky ReLU Activation Function**\n",
        "\n",
        "* Similar to ReLU, but it allows a small, non-zero gradient when the input is negative.\n",
        "*  Helps to avoid the \"dying ReLU\" problem where neurons can get stuck and stop learning.\n",
        "* Formula:\n",
        "            Leaky ReLU(x)=  x   if x≥0\n",
        "                            αx  if x<0"
      ],
      "metadata": {
        "id": "HFO17KkFkCks"
      }
    },
    {
      "cell_type": "code",
      "source": [
        "import torch\n",
        "import torch.nn as nn\n",
        "import matplotlib.pyplot as plt\n",
        "import numpy as np\n",
        "\n",
        "# Create a range of values from -10 to 10\n",
        "input_values = torch.linspace(-10, 10, 100)\n",
        "\n",
        "# Define the ReLU activation function\n",
        "relu = nn.ReLU()\n",
        "\n",
        "# Define the Leaky ReLU activation function with a negative slope of 0.01\n",
        "leaky_relu = nn.LeakyReLU(negative_slope=0.01)\n",
        "\n",
        "# Apply the ReLU function to the input values\n",
        "output_values_relu = relu(input_values)\n",
        "\n",
        "# Apply the Leaky ReLU function to the input values\n",
        "output_values_leaky_relu = leaky_relu(input_values)\n",
        "\n",
        "# Convert tensors to numpy arrays for plotting\n",
        "input_values_np = input_values.numpy()\n",
        "output_values_relu_np = output_values_relu.numpy()\n",
        "output_values_leaky_relu_np = output_values_leaky_relu.numpy()\n",
        "\n",
        "# Plot the ReLU and Leaky ReLU functions\n",
        "plt.figure(figsize=(5, 4))\n",
        "\n",
        "plt.plot(input_values_np, output_values_relu_np, label='ReLU Function', color='blue')\n",
        "plt.plot(input_values_np, output_values_leaky_relu_np, label='Leaky ReLU Function', color='red')\n",
        "\n",
        "plt.title('ReLU and Leaky ReLU Activation Functions')\n",
        "plt.xlabel('Input')\n",
        "plt.ylabel('Output')\n",
        "plt.legend()\n",
        "plt.grid(True)\n",
        "plt.show()"
      ],
      "metadata": {
        "colab": {
          "base_uri": "https://localhost:8080/",
          "height": 410
        },
        "id": "HfreJq4ekI6L",
        "outputId": "7dc55507-a818-42e0-8d07-b2aa0c34ad08"
      },
      "execution_count": null,
      "outputs": [
        {
          "output_type": "display_data",
          "data": {
            "text/plain": [
              "<Figure size 500x400 with 1 Axes>"
            ],
            "image/png": "[encoded data removed]"
          },
          "metadata": {}
        }
      ]
    },
    {
      "cell_type": "markdown",
      "source": [
        "**LOSS FUNCTION**\n",
        "\n",
        "Loss Function measures the difference between predicted output and the actual value\n",
        "\n"
      ],
      "metadata": {
        "id": "SjQDYGUykTUl"
      }
    },
    {
      "cell_type": "markdown",
      "source": [
        "For regression problem we used,\n",
        "Mean Squared Error (MSE):It the average squared difference between predicted and actual values."
      ],
      "metadata": {
        "id": "9rHZxicgnIo9"
      }
    },
    {
      "cell_type": "code",
      "source": [
        "import torch\n",
        "import torch.nn.functional as F\n",
        "\n",
        "true_v = torch.tensor([3.0, 2.0, 4.0, 1.0])  #  true values\n",
        "pred_v = torch.tensor([2.5, 1.5, 3.5, 0.5])  #  predicted values\n",
        "\n",
        "# Mean Squared Error (MSE) Loss\n",
        "mse_loss = F.mse_loss(pred_v, true_v)\n",
        "print(f\"Mean Squared Error Loss: {mse_loss.item()}\")\n"
      ],
      "metadata": {
        "colab": {
          "base_uri": "https://localhost:8080/"
        },
        "id": "2Q3Nvb4amsGd",
        "outputId": "845cc733-fe7f-4f98-d3e1-29ce0ccf7419"
      },
      "execution_count": null,
      "outputs": [
        {
          "output_type": "stream",
          "name": "stdout",
          "text": [
            "Mean Squared Error Loss: 0.25\n"
          ]
        }
      ]
    },
    {
      "cell_type": "markdown",
      "source": [
        "Classification Problems:"
      ],
      "metadata": {
        "id": "h_vmKuhtnKr3"
      }
    },
    {
      "cell_type": "markdown",
      "source": [
        "Binary Cross-Entropy Loss: Used for binary classification tasks where the model predicts probabilities for two classes"
      ],
      "metadata": {
        "id": "z5BYjZIenOJQ"
      }
    },
    {
      "cell_type": "code",
      "source": [
        "import torch\n",
        "import torch.nn.functional as F\n",
        "\n",
        "y_true_binary = torch.tensor([1, 0, 1, 0])  # Binary labels (0 or 1)\n",
        "y_pred_binary = torch.tensor([0.9, 0.1, 0.8, 0.2])  # Predicted probabilities for binary classification\n",
        "\n",
        "# Ensure y_true_binary and y_pred_binary have the same shape\n",
        "assert y_true_binary.shape == y_pred_binary.shape, \"Shapes of y_true_binary and y_pred_binary must match.\"\n",
        "\n",
        "# Convert y_true_binary to float if it's not already\n",
        "y_true_binary_float = y_true_binary.float()\n",
        "\n",
        "# Binary Cross-Entropy Loss\n",
        "bce_loss = F.binary_cross_entropy(y_pred_binary, y_true_binary_float)\n",
        "print(f\"Binary Cross-Entropy Loss: {bce_loss.item()}\")\n"
      ],
      "metadata": {
        "colab": {
          "base_uri": "https://localhost:8080/"
        },
        "id": "m6rRkFYEnUEP",
        "outputId": "8f70587a-c175-4020-c33d-52563b1903cd"
      },
      "execution_count": null,
      "outputs": [
        {
          "output_type": "stream",
          "name": "stdout",
          "text": [
            "Binary Cross-Entropy Loss: 0.16425204277038574\n"
          ]
        }
      ]
    },
    {
      "cell_type": "markdown",
      "source": [
        "Categorical Cross-Entropy Loss: Used for multi-class classification tasks where the model predicts probabilities across multiple classes."
      ],
      "metadata": {
        "id": "d7_MYF2KnbWG"
      }
    },
    {
      "cell_type": "code",
      "source": [
        "import torch\n",
        "import torch.nn.functional as F\n",
        "\n",
        "# Example ground truth and predicted values (PyTorch tensors)\n",
        "# Replace these with your actual data\n",
        "y_true_categorical = torch.tensor([0, 1, 2])  # Categorical labels (0, 1, or 2)\n",
        "y_pred_categorical = torch.tensor([[0.8, 0.1, 0.1], [0.2, 0.5, 0.3], [0.1, 0.2, 0.7]])  # Predicted probabilities\n",
        "\n",
        "# Categorical Cross-Entropy Loss\n",
        "ce_loss = F.cross_entropy(y_pred_categorical, y_true_categorical)\n",
        "print(f\"Categorical Cross-Entropy Loss: {ce_loss.item()}\")\n"
      ],
      "metadata": {
        "colab": {
          "base_uri": "https://localhost:8080/"
        },
        "id": "aq82WGcingFG",
        "outputId": "1421398f-3465-4201-bc64-c8014e7f0326"
      },
      "execution_count": null,
      "outputs": [
        {
          "output_type": "stream",
          "name": "stdout",
          "text": [
            "Categorical Cross-Entropy Loss: 0.7991690635681152\n"
          ]
        }
      ]
    },
    {
      "cell_type": "markdown",
      "source": [
        "Hinge Loss: Used for binary classification, particularly with Support Vector Machines."
      ],
      "metadata": {
        "id": "9iSQCHKinkMW"
      }
    },
    {
      "cell_type": "markdown",
      "source": [
        "**CNN**\n",
        "\n",
        "CNNs are a type of deep learning model designed specifically for tasks involving images, videos, and other spatial data. They are powerful because they can automatically learn to recognize patterns directly from raw pixel data.\n",
        "\n",
        "Example:Imagine you want to teach a computer to distinguish between cats and dogs in pictures. A CNN will start by learning basic features like edges and shapes (from convolutional layers), then combine these to recognize higher-level patterns like ears, eyes, and noses (through pooling and activation functions). Finally, fully connected layers will analyze these patterns to decide if the picture shows a cat or a dog.\n",
        "\n",
        "In essence, CNNs are specialized for handling visual data and have revolutionized fields like computer vision by enabling machines to see and understand images much like humans do.\n"
      ],
      "metadata": {
        "id": "SxvsD4xOjJkt"
      }
    },
    {
      "cell_type": "code",
      "source": [
        "import torch\n",
        "import torch.nn as nn\n",
        "import torch.optim as optim\n",
        "import torchvision.transforms as transforms\n",
        "from torchvision.datasets import MNIST\n",
        "from torch.utils.data import DataLoader\n",
        "\n",
        "# Device configuration\n",
        "device = torch.device('cuda' if torch.cuda.is_available() else 'cpu')\n",
        "\n",
        "# Hyperparameters\n",
        "num_classes = 10\n",
        "learning_rate = 0.001\n",
        "batch_size = 64\n",
        "num_epochs = 10\n",
        "\n",
        "# MNIST dataset (images and labels)\n",
        "transform = transforms.Compose([\n",
        "    transforms.ToTensor(),  # Convert PIL image or numpy.ndarray to tensor\n",
        "    transforms.Normalize((0.5,), (0.5,))  # Normalize images with mean and std\n",
        "])\n",
        "\n",
        "train_dataset = MNIST(root='./data', train=True, transform=transform, download=True)\n",
        "test_dataset = MNIST(root='./data', train=False, transform=transform)\n",
        "\n",
        "# Data loaders\n",
        "train_loader = DataLoader(dataset=train_dataset, batch_size=batch_size, shuffle=True)\n",
        "test_loader = DataLoader(dataset=test_dataset, batch_size=batch_size, shuffle=False)\n",
        "\n",
        "# Define the CNN model\n",
        "class CNN(nn.Module):\n",
        "    def __init__(self, num_classes=10):\n",
        "        super(CNN, self).__init__()\n",
        "        self.conv1 = nn.Conv2d(1, 16, kernel_size=3, stride=1, padding=1)\n",
        "        self.relu = nn.ReLU()\n",
        "        self.maxpool = nn.MaxPool2d(kernel_size=2, stride=2)\n",
        "        self.conv2 = nn.Conv2d(16, 32, kernel_size=3, stride=1, padding=1)\n",
        "        self.fc = nn.Linear(7*7*32, num_classes)\n",
        "\n",
        "    def forward(self, x):\n",
        "        x = self.conv1(x)\n",
        "        x = self.relu(x)\n",
        "        x = self.maxpool(x)\n",
        "        x = self.conv2(x)\n",
        "        x = self.relu(x)\n",
        "        x = self.maxpool(x)\n",
        "        x = x.view(x.size(0), -1)  # Flatten\n",
        "        x = self.fc(x)\n",
        "        return x\n",
        "\n",
        "# Initialize the model\n",
        "model = CNN(num_classes).to(device)\n",
        "\n",
        "# Loss and optimizer\n",
        "criterion = nn.CrossEntropyLoss()\n",
        "optimizer = optim.Adam(model.parameters(), lr=learning_rate)\n",
        "\n",
        "# Training function\n",
        "def train_model(model, train_loader, criterion, optimizer, num_epochs):\n",
        "    total_step = len(train_loader)\n",
        "    for epoch in range(num_epochs):\n",
        "        for i, (images, labels) in enumerate(train_loader):\n",
        "            images = images.to(device)\n",
        "            labels = labels.to(device)\n",
        "\n",
        "            # Forward pass\n",
        "            outputs = model(images)\n",
        "            loss = criterion(outputs, labels)\n",
        "\n",
        "            # Backward pass and optimize\n",
        "            optimizer.zero_grad()\n",
        "            loss.backward()\n",
        "            optimizer.step()\n",
        "\n",
        "            if (i+1) % 100 == 0:\n",
        "                print(f'Epoch [{epoch+1}/{num_epochs}], Step [{i+1}/{total_step}], Loss: {loss.item():.4f}')\n",
        "\n",
        "# Evaluation function\n",
        "def evaluate_model(model, test_loader):\n",
        "    model.eval()  # Switch to evaluation mode\n",
        "    with torch.no_grad():\n",
        "        correct = 0\n",
        "        total = 0\n",
        "        for images, labels in test_loader:\n",
        "            images = images.to(device)\n",
        "            labels = labels.to(device)\n",
        "            outputs = model(images)\n",
        "            _, predicted = torch.max(outputs.data, 1)\n",
        "            total += labels.size(0)\n",
        "            correct += (predicted == labels).sum().item()\n",
        "\n",
        "        accuracy = correct / total\n",
        "        print(f'Accuracy on test set: {accuracy:.4f} ({correct}/{total})')\n",
        "\n",
        "# Train the model\n",
        "train_model(model, train_loader, criterion, optimizer, num_epochs)\n",
        "\n",
        "# Evaluate the model\n",
        "evaluate_model(model, test_loader)\n"
      ],
      "metadata": {
        "colab": {
          "base_uri": "https://localhost:8080/"
        },
        "id": "limiOTvTeMIe",
        "outputId": "3425a389-737f-433a-e29b-f4ae45b29300"
      },
      "execution_count": null,
      "outputs": [
        {
          "output_type": "stream",
          "name": "stdout",
          "text": [
            "Epoch [1/10], Step [100/938], Loss: 0.2843\n",
            "Epoch [1/10], Step [200/938], Loss: 0.2624\n",
            "Epoch [1/10], Step [300/938], Loss: 0.1220\n",
            "Epoch [1/10], Step [400/938], Loss: 0.0593\n",
            "Epoch [1/10], Step [500/938], Loss: 0.1264\n",
            "Epoch [1/10], Step [600/938], Loss: 0.0398\n",
            "Epoch [1/10], Step [700/938], Loss: 0.0755\n",
            "Epoch [1/10], Step [800/938], Loss: 0.1113\n",
            "Epoch [1/10], Step [900/938], Loss: 0.0758\n",
            "Epoch [2/10], Step [100/938], Loss: 0.0605\n",
            "Epoch [2/10], Step [200/938], Loss: 0.0408\n",
            "Epoch [2/10], Step [300/938], Loss: 0.0378\n",
            "Epoch [2/10], Step [400/938], Loss: 0.0944\n",
            "Epoch [2/10], Step [500/938], Loss: 0.0188\n",
            "Epoch [2/10], Step [600/938], Loss: 0.0147\n",
            "Epoch [2/10], Step [700/938], Loss: 0.0330\n",
            "Epoch [2/10], Step [800/938], Loss: 0.0649\n",
            "Epoch [2/10], Step [900/938], Loss: 0.0551\n",
            "Epoch [3/10], Step [100/938], Loss: 0.0564\n",
            "Epoch [3/10], Step [200/938], Loss: 0.0147\n",
            "Epoch [3/10], Step [300/938], Loss: 0.0078\n",
            "Epoch [3/10], Step [400/938], Loss: 0.0412\n",
            "Epoch [3/10], Step [500/938], Loss: 0.0810\n",
            "Epoch [3/10], Step [600/938], Loss: 0.0096\n",
            "Epoch [3/10], Step [700/938], Loss: 0.0191\n",
            "Epoch [3/10], Step [800/938], Loss: 0.0229\n",
            "Epoch [3/10], Step [900/938], Loss: 0.1208\n",
            "Epoch [4/10], Step [100/938], Loss: 0.0806\n",
            "Epoch [4/10], Step [200/938], Loss: 0.0023\n",
            "Epoch [4/10], Step [300/938], Loss: 0.0354\n",
            "Epoch [4/10], Step [400/938], Loss: 0.0637\n",
            "Epoch [4/10], Step [500/938], Loss: 0.0134\n",
            "Epoch [4/10], Step [600/938], Loss: 0.0126\n",
            "Epoch [4/10], Step [700/938], Loss: 0.1205\n",
            "Epoch [4/10], Step [800/938], Loss: 0.0815\n",
            "Epoch [4/10], Step [900/938], Loss: 0.0695\n",
            "Epoch [5/10], Step [100/938], Loss: 0.0066\n",
            "Epoch [5/10], Step [200/938], Loss: 0.0125\n",
            "Epoch [5/10], Step [300/938], Loss: 0.0169\n",
            "Epoch [5/10], Step [400/938], Loss: 0.0125\n",
            "Epoch [5/10], Step [500/938], Loss: 0.0041\n",
            "Epoch [5/10], Step [600/938], Loss: 0.0066\n",
            "Epoch [5/10], Step [700/938], Loss: 0.0011\n",
            "Epoch [5/10], Step [800/938], Loss: 0.0839\n",
            "Epoch [5/10], Step [900/938], Loss: 0.0050\n",
            "Epoch [6/10], Step [100/938], Loss: 0.0117\n",
            "Epoch [6/10], Step [200/938], Loss: 0.0045\n",
            "Epoch [6/10], Step [300/938], Loss: 0.0035\n",
            "Epoch [6/10], Step [400/938], Loss: 0.0018\n",
            "Epoch [6/10], Step [500/938], Loss: 0.0046\n",
            "Epoch [6/10], Step [600/938], Loss: 0.0440\n",
            "Epoch [6/10], Step [700/938], Loss: 0.0324\n",
            "Epoch [6/10], Step [800/938], Loss: 0.0070\n",
            "Epoch [6/10], Step [900/938], Loss: 0.0225\n",
            "Epoch [7/10], Step [100/938], Loss: 0.0109\n",
            "Epoch [7/10], Step [200/938], Loss: 0.0044\n",
            "Epoch [7/10], Step [300/938], Loss: 0.0504\n",
            "Epoch [7/10], Step [400/938], Loss: 0.0253\n",
            "Epoch [7/10], Step [500/938], Loss: 0.0058\n",
            "Epoch [7/10], Step [600/938], Loss: 0.0051\n",
            "Epoch [7/10], Step [700/938], Loss: 0.0022\n",
            "Epoch [7/10], Step [800/938], Loss: 0.0060\n",
            "Epoch [7/10], Step [900/938], Loss: 0.0476\n",
            "Epoch [8/10], Step [100/938], Loss: 0.0020\n",
            "Epoch [8/10], Step [200/938], Loss: 0.0074\n",
            "Epoch [8/10], Step [300/938], Loss: 0.0153\n",
            "Epoch [8/10], Step [400/938], Loss: 0.0074\n",
            "Epoch [8/10], Step [500/938], Loss: 0.0045\n",
            "Epoch [8/10], Step [600/938], Loss: 0.0665\n",
            "Epoch [8/10], Step [700/938], Loss: 0.0717\n",
            "Epoch [8/10], Step [800/938], Loss: 0.0026\n",
            "Epoch [8/10], Step [900/938], Loss: 0.0127\n",
            "Epoch [9/10], Step [100/938], Loss: 0.0005\n",
            "Epoch [9/10], Step [200/938], Loss: 0.0010\n",
            "Epoch [9/10], Step [300/938], Loss: 0.0074\n",
            "Epoch [9/10], Step [400/938], Loss: 0.0416\n",
            "Epoch [9/10], Step [500/938], Loss: 0.0006\n",
            "Epoch [9/10], Step [600/938], Loss: 0.0012\n",
            "Epoch [9/10], Step [700/938], Loss: 0.0019\n",
            "Epoch [9/10], Step [800/938], Loss: 0.0556\n",
            "Epoch [9/10], Step [900/938], Loss: 0.1765\n",
            "Epoch [10/10], Step [100/938], Loss: 0.0003\n",
            "Epoch [10/10], Step [200/938], Loss: 0.0004\n",
            "Epoch [10/10], Step [300/938], Loss: 0.0106\n",
            "Epoch [10/10], Step [400/938], Loss: 0.0043\n",
            "Epoch [10/10], Step [500/938], Loss: 0.0017\n",
            "Epoch [10/10], Step [600/938], Loss: 0.0131\n",
            "Epoch [10/10], Step [700/938], Loss: 0.0012\n",
            "Epoch [10/10], Step [800/938], Loss: 0.0009\n",
            "Epoch [10/10], Step [900/938], Loss: 0.0025\n",
            "Accuracy on test set: 0.9890 (9890/10000)\n"
          ]
        }
      ]
    },
    {
      "cell_type": "markdown",
      "source": [
        "**RNN**\n",
        "\n",
        "RNN stands for Recurrent Neural Network. This type of neural network is used for sequential data such as text data ,DNA sequence, speech, Time series data and many others. It is used where the order of data matters a lot.\n",
        "\n",
        "A recurrent neural network, however, is able to remember those characters because of its internal memory.\n",
        "\n",
        "In this network output is not only depend on current input but also depend on previous output in the sequence\n"
      ],
      "metadata": {
        "id": "3ZckLvEbrfbb"
      }
    },
    {
      "cell_type": "code",
      "source": [
        "# Import necessary libraries\n",
        "import pandas as pd\n",
        "import numpy as np\n",
        "import matplotlib.pyplot as plt\n",
        "from sklearn.preprocessing import MinMaxScaler\n",
        "import torch\n",
        "import torch.nn as nn\n",
        "import torch.optim as optim\n",
        "from torch.utils.data import DataLoader, TensorDataset\n",
        "\n",
        "# Load the dataset\n",
        "url = 'https://raw.githubusercontent.com/jbrownlee/Datasets/master/airline-passengers.csv'\n",
        "data = pd.read_csv(url, usecols=[1])\n",
        "\n",
        "# Convert to numpy array and normalize\n",
        "data = data.values.astype(float)\n",
        "scaler = MinMaxScaler(feature_range=(0, 1))\n",
        "data = scaler.fit_transform(data)\n",
        "\n",
        "# Create sequences for training\n",
        "def create_sequences(data, seq_length):\n",
        "    xs, ys = [], []\n",
        "    for i in range(len(data) - seq_length):\n",
        "        x = data[i:i + seq_length]\n",
        "        y = data[i + seq_length]\n",
        "        xs.append(x)\n",
        "        ys.append(y)\n",
        "    return np.array(xs), np.array(ys)\n",
        "\n",
        "# Define the sequence length\n",
        "seq_length = 10\n",
        "\n",
        "# Create sequences and targets\n",
        "X, y = create_sequences(data, seq_length)\n",
        "\n",
        "# Convert to PyTorch tensors\n",
        "X = torch.tensor(X, dtype=torch.float32)\n",
        "y = torch.tensor(y, dtype=torch.float32)\n",
        "\n",
        "# Create DataLoader for batching\n",
        "batch_size = 16\n",
        "dataset = TensorDataset(X, y)\n",
        "dataloader = DataLoader(dataset, batch_size=batch_size, shuffle=True)\n",
        "\n",
        "# Define the RNN model\n",
        "class RNN(nn.Module):\n",
        "    def __init__(self, input_size, hidden_size, output_size, n_layers=1):\n",
        "        super(RNN, self).__init__()\n",
        "        self.hidden_size = hidden_size\n",
        "        self.n_layers = n_layers\n",
        "        self.rnn = nn.RNN(input_size, hidden_size, n_layers, batch_first=True)\n",
        "        self.fc = nn.Linear(hidden_size, output_size)\n",
        "\n",
        "    def forward(self, x):\n",
        "        # Initialize hidden state with zeros\n",
        "        h0 = torch.zeros(self.n_layers, x.size(0), self.hidden_size).to(x.device)\n",
        "\n",
        "        # Forward propagate RNN\n",
        "        out, hn = self.rnn(x, h0)\n",
        "\n",
        "        # Take the output of the last time step\n",
        "        out = self.fc(out[:, -1, :])\n",
        "        return out\n",
        "\n",
        "# Parameters for the model\n",
        "input_size = 1     # Number of features in the input\n",
        "hidden_size = 50   # Number of features in the hidden state\n",
        "output_size = 1    # Number of output features\n",
        "n_layers = 2       # Number of RNN layers\n",
        "\n",
        "# Create the RNN model\n",
        "model = RNN(input_size, hidden_size, output_size, n_layers)\n",
        "\n",
        "# Define the loss function and optimizer\n",
        "criterion = nn.MSELoss()                # Mean Squared Error loss\n",
        "optimizer = optim.Adam(model.parameters(), lr=0.001)  # Adam optimizer\n",
        "\n",
        "# Training loop\n",
        "num_epochs = 100                         # Number of training epochs\n",
        "for epoch in range(num_epochs):\n",
        "    for batch in dataloader:\n",
        "        x_batch, y_batch = batch        # Get the batch\n",
        "        optimizer.zero_grad()           # Clear gradients\n",
        "        y_pred = model(x_batch)        # Forward pass\n",
        "        loss = criterion(y_pred, y_batch)  # Compute loss\n",
        "        loss.backward()                 # Backpropagation\n",
        "        optimizer.step()                # Update weights\n",
        "\n",
        "    if (epoch + 1) % 10 == 0:          # Print loss every 10 epochs\n",
        "        print(f'Epoch {epoch + 1}/{num_epochs}, Loss: {loss.item():.4f}')\n",
        "\n",
        "# Make predictions\n",
        "model.eval()                          # Set model to evaluation mode\n",
        "with torch.no_grad():\n",
        "    train_pred = model(X).cpu().numpy()  # Predict on the training data\n",
        "\n",
        "# Inverse transform the predictions\n",
        "train_pred = scaler.inverse_transform(train_pred)  # Scale back to original values\n",
        "true_values = scaler.inverse_transform(y.cpu().numpy())  # True values\n",
        "\n",
        "# Plot the results\n",
        "plt.figure(figsize=(10, 6))\n",
        "plt.plot(true_values, label='True values', color='blue')   # True values\n",
        "plt.plot(train_pred, label='Predictions', color='orange')  # Predicted values\n",
        "plt.xlabel('Time')\n",
        "plt.ylabel('Number of Passengers')\n",
        "plt.title('Airline Passengers Prediction using RNN')\n",
        "plt.legend()\n",
        "plt.show()\n"
      ],
      "metadata": {
        "colab": {
          "base_uri": "https://localhost:8080/",
          "height": 738
        },
        "id": "TDbaR1cyiAPB",
        "outputId": "6bf8aca5-3a2a-40d8-e012-c1240b50df01"
      },
      "execution_count": null,
      "outputs": [
        {
          "output_type": "stream",
          "name": "stdout",
          "text": [
            "Epoch 10/100, Loss: 0.0108\n",
            "Epoch 20/100, Loss: 0.0089\n",
            "Epoch 30/100, Loss: 0.0084\n",
            "Epoch 40/100, Loss: 0.0025\n",
            "Epoch 50/100, Loss: 0.0023\n",
            "Epoch 60/100, Loss: 0.0037\n",
            "Epoch 70/100, Loss: 0.0019\n",
            "Epoch 80/100, Loss: 0.0066\n",
            "Epoch 90/100, Loss: 0.0013\n",
            "Epoch 100/100, Loss: 0.0005\n"
          ]
        },
        {
          "output_type": "display_data",
          "data": {
            "text/plain": [
              "<Figure size 1000x600 with 1 Axes>"
            ],
            "image/png": "[encoded data removed]"
          },
          "metadata": {}
        }
      ]
    },
    {
      "cell_type": "markdown",
      "source": [
        "**TRANSFORMER**\n",
        "\n",
        "A Transformer is a neural network architecture designed for processing sequences of data, primarily used in tasks like natural language processing. It addresses some limitations of RNNs, such as difficulty with long-term dependencies, by relying on attention mechanisms.\n",
        "It consist of two main parts:\n",
        "* Encoder\n",
        "* Decoder\n",
        "\n",
        "Together, the encoder processes the input sequence, and the decoder generates the output sequence.\n"
      ],
      "metadata": {
        "id": "YtrBUf8e52Ab"
      }
    },
    {
      "cell_type": "code",
      "source": [
        "import torch\n",
        "import torch.nn as nn\n",
        "\n",
        "# Simplified Multi-Head Attention\n",
        "class SimpleMultiHeadAttention(nn.Module):\n",
        "    def __init__(self, d_model, nhead):\n",
        "        super(SimpleMultiHeadAttention, self).__init__()\n",
        "        self.attention = nn.MultiheadAttention(d_model, nhead)\n",
        "\n",
        "    def forward(self, query, key, value):\n",
        "        query, key, value = query.permute(1, 0, 2), key.permute(1, 0, 2), value.permute(1, 0, 2)\n",
        "        attn_output, _ = self.attention(query, key, value)\n",
        "        return attn_output.permute(1, 0, 2)\n",
        "\n",
        "# Simplified Transformer Encoder Layer\n",
        "class SimpleTransformerEncoderLayer(nn.Module):\n",
        "    def __init__(self, d_model, nhead):\n",
        "        super(SimpleTransformerEncoderLayer, self).__init__()\n",
        "        self.self_attention = SimpleMultiHeadAttention(d_model, nhead)\n",
        "        self.feed_forward = nn.Sequential(\n",
        "            nn.Linear(d_model, d_model),\n",
        "            nn.ReLU(),\n",
        "            nn.Linear(d_model, d_model)\n",
        "        )\n",
        "        self.layer_norm1 = nn.LayerNorm(d_model)\n",
        "        self.layer_norm2 = nn.LayerNorm(d_model)\n",
        "        self.dropout = nn.Dropout(0.1)\n",
        "\n",
        "    def forward(self, x):\n",
        "        # Self-Attention\n",
        "        attn_output = self.self_attention(x, x, x)\n",
        "        x = self.layer_norm1(x + self.dropout(attn_output))\n",
        "        # Feed Forward\n",
        "        ff_output = self.feed_forward(x)\n",
        "        x = self.layer_norm2(x + self.dropout(ff_output))\n",
        "        return x\n",
        "\n",
        "# Simplified Transformer Decoder Layer\n",
        "class SimpleTransformerDecoderLayer(nn.Module):\n",
        "    def __init__(self, d_model, nhead):\n",
        "        super(SimpleTransformerDecoderLayer, self).__init__()\n",
        "        self.self_attention = SimpleMultiHeadAttention(d_model, nhead)\n",
        "        self.encoder_attention = SimpleMultiHeadAttention(d_model, nhead)\n",
        "        self.feed_forward = nn.Sequential(\n",
        "            nn.Linear(d_model, d_model),\n",
        "            nn.ReLU(),\n",
        "            nn.Linear(d_model, d_model)\n",
        "        )\n",
        "        self.layer_norm1 = nn.LayerNorm(d_model)\n",
        "        self.layer_norm2 = nn.LayerNorm(d_model)\n",
        "        self.layer_norm3 = nn.LayerNorm(d_model)\n",
        "        self.dropout = nn.Dropout(0.1)\n",
        "\n",
        "    def forward(self, tgt, memory):\n",
        "        # Self-Attention\n",
        "        self_attn_output = self.self_attention(tgt, tgt, tgt)\n",
        "        tgt = self.layer_norm1(tgt + self.dropout(self_attn_output))\n",
        "        # Encoder-Decoder Attention\n",
        "        enc_dec_attn_output = self.encoder_attention(tgt, memory, memory)\n",
        "        tgt = self.layer_norm2(tgt + self.dropout(enc_dec_attn_output))\n",
        "        # Feed Forward\n",
        "        ff_output = self.feed_forward(tgt)\n",
        "        tgt = self.layer_norm3(tgt + self.dropout(ff_output))\n",
        "        return tgt\n",
        "\n",
        "# Complete Simplified Transformer Model\n",
        "class SimpleTransformer(nn.Module):\n",
        "    def __init__(self, d_model, nhead, num_encoder_layers, num_decoder_layers):\n",
        "        super(SimpleTransformer, self).__init__()\n",
        "        self.encoder_layers = nn.ModuleList([\n",
        "            SimpleTransformerEncoderLayer(d_model, nhead) for _ in range(num_encoder_layers)\n",
        "        ])\n",
        "        self.decoder_layers = nn.ModuleList([\n",
        "            SimpleTransformerDecoderLayer(d_model, nhead) for _ in range(num_decoder_layers)\n",
        "        ])\n",
        "        self.fc_out = nn.Linear(d_model, 1)  # Output layer (e.g., for regression tasks)\n",
        "\n",
        "    def forward(self, src, tgt):\n",
        "        memory = src\n",
        "        for layer in self.encoder_layers:\n",
        "            memory = layer(memory)\n",
        "        output = tgt\n",
        "        for layer in self.decoder_layers:\n",
        "            output = layer(output, memory)\n",
        "        output = self.fc_out(output)\n",
        "        return output\n",
        "\n",
        "# Example usage\n",
        "if __name__ == \"__main__\":\n",
        "    d_model = 64\n",
        "    nhead = 4\n",
        "    num_encoder_layers = 2\n",
        "    num_decoder_layers = 2\n",
        "\n",
        "    model = SimpleTransformer(d_model, nhead, num_encoder_layers, num_decoder_layers)\n",
        "\n",
        "    # Dummy input (sequence length=10, batch size=32, feature size=64)\n",
        "    src = torch.randn(32, 10, d_model)  # Source sequence\n",
        "    tgt = torch.randn(32, 10, d_model)  # Target sequence\n",
        "    output = model(src, tgt)\n",
        "    print(output.shape)\n"
      ],
      "metadata": {
        "colab": {
          "base_uri": "https://localhost:8080/"
        },
        "id": "rUFc6JT_57hQ",
        "outputId": "91682987-34bf-439f-93d2-2840c007edfb"
      },
      "execution_count": null,
      "outputs": [
        {
          "output_type": "stream",
          "name": "stdout",
          "text": [
            "torch.Size([32, 10, 1])\n"
          ]
        }
      ]
    }
  ]
}